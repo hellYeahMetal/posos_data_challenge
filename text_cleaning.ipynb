{
 "cells": [
  {
   "cell_type": "code",
   "execution_count": 1,
   "metadata": {},
   "outputs": [],
   "source": [
    "import pandas as pd\n",
    "from nltk.corpus import stopwords\n",
    "import enchant\n",
    "import re"
   ]
  },
  {
   "cell_type": "code",
   "execution_count": 2,
   "metadata": {},
   "outputs": [],
   "source": [
    "X = pd.read_csv('DATA/input_train.csv', sep=\";\")\n",
    "y = pd.read_csv('DATA/output_train.csv', sep=\";\")\n",
    "\n",
    "features = X.columns\n",
    "targets = y['intention'].unique"
   ]
  },
  {
   "cell_type": "code",
   "execution_count": 3,
   "metadata": {},
   "outputs": [
    {
     "data": {
      "text/plain": [
       "Index(['﻿ID', 'question'], dtype='object')"
      ]
     },
     "execution_count": 3,
     "metadata": {},
     "output_type": "execute_result"
    }
   ],
   "source": [
    "features"
   ]
  },
  {
   "cell_type": "code",
   "execution_count": 4,
   "metadata": {},
   "outputs": [
    {
     "data": {
      "text/html": [
       "<div>\n",
       "<table border=\"1\" class=\"dataframe\">\n",
       "  <thead>\n",
       "    <tr style=\"text-align: right;\">\n",
       "      <th></th>\n",
       "      <th>﻿ID</th>\n",
       "      <th>question</th>\n",
       "    </tr>\n",
       "  </thead>\n",
       "  <tbody>\n",
       "    <tr>\n",
       "      <th>0</th>\n",
       "      <td>0</td>\n",
       "      <td>bonjour,  je m suis trompé de forum pour ma qu...</td>\n",
       "    </tr>\n",
       "    <tr>\n",
       "      <th>1</th>\n",
       "      <td>1</td>\n",
       "      <td>est ce que le motilium me soulagera contre les...</td>\n",
       "    </tr>\n",
       "    <tr>\n",
       "      <th>2</th>\n",
       "      <td>2</td>\n",
       "      <td>mon médecin m'a prescrit adenyl. au 2ème cache...</td>\n",
       "    </tr>\n",
       "    <tr>\n",
       "      <th>3</th>\n",
       "      <td>3</td>\n",
       "      <td>Est-ce qu'il existe une forme adaptée aux enfa...</td>\n",
       "    </tr>\n",
       "    <tr>\n",
       "      <th>4</th>\n",
       "      <td>4</td>\n",
       "      <td>mon  medecin  me soigne  pour  une  rhino  pha...</td>\n",
       "    </tr>\n",
       "  </tbody>\n",
       "</table>\n",
       "</div>"
      ],
      "text/plain": [
       "   ﻿ID                                           question\n",
       "0    0  bonjour,  je m suis trompé de forum pour ma qu...\n",
       "1    1  est ce que le motilium me soulagera contre les...\n",
       "2    2  mon médecin m'a prescrit adenyl. au 2ème cache...\n",
       "3    3  Est-ce qu'il existe une forme adaptée aux enfa...\n",
       "4    4  mon  medecin  me soigne  pour  une  rhino  pha..."
      ]
     },
     "execution_count": 4,
     "metadata": {},
     "output_type": "execute_result"
    }
   ],
   "source": [
    "X.head()"
   ]
  },
  {
   "cell_type": "code",
   "execution_count": 5,
   "metadata": {},
   "outputs": [],
   "source": [
    "#import the list of medicaments\n",
    "text_file = open(\"DATA/medicaments.txt\", \"r\")\n",
    "medicaments = [x[:-1] for x in text_file.readlines()]\n",
    "symptomes = ['angoisse', 'stress', 'diarrhée', 'douleur','fatigue', 'fièvre','température','frissons','céphalée','nausée','vomissement','saignement','malaise','sueur', 'tremblement','vertige']\n",
    "maladies = [x[0] for x in pd.read_csv('DATA/maladies.csv', sep=\",\", header=None).values]\n",
    "posologies = [\"mg\", \"ml\"]\n",
    "stop_words = stopwords.words('french')\n",
    "correcteur = enchant.Dict(\"fr_FR\")"
   ]
  },
  {
   "cell_type": "code",
   "execution_count": 6,
   "metadata": {},
   "outputs": [],
   "source": [
    "# Indicateur d'avancement \n",
    "total = len(X['question'])"
   ]
  },
  {
   "cell_type": "code",
   "execution_count": 9,
   "metadata": {},
   "outputs": [],
   "source": [
    "def clean(word):\n",
    "    word = word.lower()\n",
    "    if word in medicaments:\n",
    "        word = \"<MEDICAMENT>\"\n",
    "        count['medicaments']+=1\n",
    "    elif (word[-2:] in posologies) and (re.match(r\"[0-9 ]\", word[:-2] ) is None):\n",
    "        word = \"<POSOLOGIE>\"\n",
    "        count['posologies']+=1\n",
    "    elif word in maladies:\n",
    "        word = \"<MALADIE>\"\n",
    "        count['maladies']+=1\n",
    "    elif word in symptomes:\n",
    "        word = \"<SYMPTOME>\"\n",
    "        count['symptomes']+=1\n",
    "    elif not correcteur.check(word):\n",
    "        suggestions = correcteur.suggest(word)\n",
    "        if type(suggestions) == 'list':\n",
    "            distances = [enchant.utils.levenshtein(s, word) for s in suggestions]\n",
    "            min_index = distances.index(min(distances))\n",
    "            word = suggestions[min_index]\n",
    "        elif type(suggestions) == 'str':\n",
    "            word = suggestion\n",
    "        \n",
    "    return word\n",
    "\n",
    "def preprocess(row):\n",
    "    sentence = re.sub(r'[^\\w]', ' ', row['question'])\n",
    "    word_list = [clean(word) for word in sentence.split() if word not in stop_words]\n",
    "    preprocessed_sentence = ' '.join(word for word in word_list)\n",
    "    if row['﻿ID']%100 == 0:\n",
    "        print(\" row {} / {}\".format(row['﻿ID'], total))\n",
    "    return preprocessed_sentence\n",
    "\n",
    "def output_format(row):\n",
    "    return row[0]"
   ]
  },
  {
   "cell_type": "code",
   "execution_count": 10,
   "metadata": {},
   "outputs": [
    {
     "name": "stdout",
     "output_type": "stream",
     "text": [
      " row 0 / 8028\n",
      " row 100 / 8028\n",
      " row 200 / 8028\n",
      " row 300 / 8028\n",
      " row 400 / 8028\n",
      " row 500 / 8028\n",
      " row 600 / 8028\n",
      " row 700 / 8028\n",
      " row 800 / 8028\n",
      " row 900 / 8028\n",
      " row 1000 / 8028\n",
      " row 1100 / 8028\n",
      " row 1200 / 8028\n",
      " row 1300 / 8028\n",
      " row 1400 / 8028\n",
      " row 1500 / 8028\n",
      " row 1600 / 8028\n",
      " row 1700 / 8028\n",
      " row 1800 / 8028\n",
      " row 1900 / 8028\n",
      " row 2000 / 8028\n",
      " row 2100 / 8028\n",
      " row 2200 / 8028\n",
      " row 2300 / 8028\n",
      " row 2400 / 8028\n",
      " row 2500 / 8028\n",
      " row 2600 / 8028\n",
      " row 2700 / 8028\n",
      " row 2800 / 8028\n",
      " row 2900 / 8028\n",
      " row 3000 / 8028\n",
      " row 3100 / 8028\n",
      " row 3200 / 8028\n",
      " row 3300 / 8028\n",
      " row 3400 / 8028\n",
      " row 3500 / 8028\n",
      " row 3600 / 8028\n",
      " row 3700 / 8028\n",
      " row 3800 / 8028\n",
      " row 3900 / 8028\n",
      " row 4000 / 8028\n",
      " row 4100 / 8028\n",
      " row 4200 / 8028\n",
      " row 4300 / 8028\n",
      " row 4400 / 8028\n",
      " row 4500 / 8028\n",
      " row 4600 / 8028\n",
      " row 4700 / 8028\n",
      " row 4800 / 8028\n",
      " row 4900 / 8028\n",
      " row 5000 / 8028\n",
      " row 5100 / 8028\n",
      " row 5200 / 8028\n",
      " row 5300 / 8028\n",
      " row 5400 / 8028\n",
      " row 5500 / 8028\n",
      " row 5600 / 8028\n",
      " row 5700 / 8028\n",
      " row 5800 / 8028\n",
      " row 5900 / 8028\n",
      " row 6000 / 8028\n",
      " row 6100 / 8028\n",
      " row 6200 / 8028\n",
      " row 6300 / 8028\n",
      " row 6400 / 8028\n",
      " row 6500 / 8028\n",
      " row 6600 / 8028\n",
      " row 6700 / 8028\n",
      " row 6800 / 8028\n",
      " row 6900 / 8028\n",
      " row 7000 / 8028\n",
      " row 7100 / 8028\n",
      " row 7200 / 8028\n",
      " row 7300 / 8028\n",
      " row 7400 / 8028\n",
      " row 7500 / 8028\n",
      " row 7600 / 8028\n",
      " row 7700 / 8028\n",
      " row 7800 / 8028\n",
      " row 7900 / 8028\n",
      " row 8000 / 8028\n",
      "{'maladies': 0, 'symptomes': 329, 'medicaments': 9741, 'posologies': 177}\n"
     ]
    }
   ],
   "source": [
    "count = {'medicaments' : 0,'posologies': 0,'maladies': 0,'symptomes' :0}\n",
    "X_clean = X.apply(preprocess, axis = 1)\n",
    "print(count)"
   ]
  },
  {
   "cell_type": "code",
   "execution_count": 11,
   "metadata": {},
   "outputs": [
    {
     "data": {
      "text/plain": [
       "0    bonjour trompé forum question alors repose ici...\n",
       "1            <MEDICAMENT> soulagera contre les nausées\n",
       "2    médecin <MEDICAMENT> prescrit <MEDICAMENT> 2èm...\n",
       "3    est existe forme adaptée enfant 5ans <MEDICAMENT>\n",
       "4    medecin soigne <MEDICAMENT> pharingite <MEDICA...\n",
       "dtype: object"
      ]
     },
     "execution_count": 11,
     "metadata": {},
     "output_type": "execute_result"
    }
   ],
   "source": [
    "X_clean.head()"
   ]
  },
  {
   "cell_type": "code",
   "execution_count": 12,
   "metadata": {},
   "outputs": [],
   "source": [
    "X_clean.to_csv('DATA/clean_input_train.csv', sep=';', header = ['question'])"
   ]
  },
  {
   "cell_type": "code",
   "execution_count": null,
   "metadata": {},
   "outputs": [],
   "source": [
    "print(word[:-2])\n",
    "if (word[-2:] in posologies) and (not re.match(r\"[0-9 ]\", word[:-2] ) is None):\n",
    "    print('<POSOLOGIE>')"
   ]
  },
  {
   "cell_type": "code",
   "execution_count": null,
   "metadata": {},
   "outputs": [],
   "source": []
  }
 ],
 "metadata": {
  "kernelspec": {
   "display_name": "Python 3",
   "language": "python",
   "name": "python3"
  },
  "language_info": {
   "codemirror_mode": {
    "name": "ipython",
    "version": 3
   },
   "file_extension": ".py",
   "mimetype": "text/x-python",
   "name": "python",
   "nbconvert_exporter": "python",
   "pygments_lexer": "ipython3",
   "version": "3.5.2"
  }
 },
 "nbformat": 4,
 "nbformat_minor": 2
}
