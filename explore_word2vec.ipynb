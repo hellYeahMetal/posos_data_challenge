{
 "cells": [
  {
   "cell_type": "code",
   "execution_count": 2,
   "metadata": {},
   "outputs": [],
   "source": [
    "import pandas as pd\n",
    "import gensim\n",
    "import numpy as np\n",
    "import time\n",
    "import matplotlib.pyplot as plt\n",
    "from sklearn.manifold import TSNE"
   ]
  },
  {
   "cell_type": "code",
   "execution_count": 3,
   "metadata": {},
   "outputs": [],
   "source": [
    "# Import data\n",
    "X = pd.read_csv('DATA/clean_data/cleaned_n_stemming_input_train.csv', sep=\";\", index_col=0)\n",
    "y = pd.read_csv('DATA/output_train.csv', sep=\";\", index_col=0)\n",
    "\n",
    "features = X.columns\n",
    "targets = y['intention'].unique()"
   ]
  },
  {
   "cell_type": "code",
   "execution_count": 6,
   "metadata": {},
   "outputs": [],
   "source": [
    "sentences = [sentence.split() for sentence in X['question'].values]"
   ]
  },
  {
   "cell_type": "markdown",
   "metadata": {},
   "source": [
    "# Train word2vec in french"
   ]
  },
  {
   "cell_type": "code",
   "execution_count": 13,
   "metadata": {},
   "outputs": [],
   "source": [
    "EPOCHS = 400\n",
    "MIN_COUNT = 2\n",
    "SIZE = 100\n",
    "WINDOW = 4\n",
    "WORKERS = 4\n",
    "\n",
    "training_it = 1\n",
    "scratch_model  = gensim.models.Word2Vec(sentences, \n",
    "                                        sg=1,\n",
    "                                        sample=0.01,\n",
    "                                        min_count=MIN_COUNT, \n",
    "                                        size=SIZE, \n",
    "                                        window=WINDOW, \n",
    "                                        compute_loss = True,\n",
    "                                        iter=EPOCHS)\n"
   ]
  },
  {
   "cell_type": "code",
   "execution_count": 15,
   "metadata": {},
   "outputs": [],
   "source": [
    "scratch_model.wv.save_word2vec_format(fname = 'DATA/trained_vectors/custom_word2vec/scratch_fr_stemming.bin', \n",
    "                                          fvocab='DATA/trained_vectors/custom_word2vec/scratch_fr_vocab_stemming.txt', \n",
    "                                          binary=True)"
   ]
  },
  {
   "cell_type": "markdown",
   "metadata": {},
   "source": [
    "## Test custom word2vec in french built from scratch"
   ]
  },
  {
   "cell_type": "code",
   "execution_count": 16,
   "metadata": {},
   "outputs": [],
   "source": [
    "scratch_model =gensim.models.KeyedVectors.load_word2vec_format(fname = 'DATA/trained_vectors/custom_word2vec/scratch_fr_stemming.bin', \n",
    "                                                               fvocab='DATA/trained_vectors/custom_word2vec/scratch_fr_vocab_stemming.txt', \n",
    "                                                               binary=True)"
   ]
  },
  {
   "cell_type": "markdown",
   "metadata": {},
   "source": [
    "# Plot TSNE \n",
    "taken from https://www.kaggle.com/jeffd23/visualizing-word-vectors-with-t-sne"
   ]
  },
  {
   "cell_type": "code",
   "execution_count": 17,
   "metadata": {},
   "outputs": [],
   "source": [
    "def tsne_plot(model):\n",
    "    \"Creates and TSNE model and plots it\"\n",
    "    labels = []\n",
    "    tokens = []\n",
    "\n",
    "    for word in model.vocab:\n",
    "        tokens.append(model[word])\n",
    "        labels.append(word)\n",
    "    \n",
    "    tsne_model = TSNE(perplexity=40, n_components=2, init='pca', n_iter=2500, random_state=23)\n",
    "    new_values = tsne_model.fit_transform(tokens)\n",
    "\n",
    "    x = []\n",
    "    y = []\n",
    "    for value in new_values:\n",
    "        x.append(value[0])\n",
    "        y.append(value[1])\n",
    "        \n",
    "    plt.figure(figsize=(16, 16)) \n",
    "    for i in range(len(x)):\n",
    "        plt.scatter(x[i],y[i])\n",
    "        plt.annotate(labels[i],\n",
    "                     xy=(x[i], y[i]),\n",
    "                     xytext=(5, 2),\n",
    "                     textcoords='offset points',\n",
    "                     ha='right',\n",
    "                     va='bottom')\n",
    "    plt.show()\n"
   ]
  },
  {
   "cell_type": "code",
   "execution_count": null,
   "metadata": {
    "scrolled": true
   },
   "outputs": [],
   "source": [
    "tsne_plot(scratch_model)"
   ]
  },
  {
   "cell_type": "code",
   "execution_count": 12,
   "metadata": {},
   "outputs": [
    {
     "data": {
      "text/plain": [
       "[('lund', 0.5880324840545654),\n",
       " ('mercred', 0.5336698293685913),\n",
       " ('vendred', 0.5199204683303833),\n",
       " ('zapp', 0.5114241242408752),\n",
       " ('10e', 0.510537326335907),\n",
       " ('ixiem', 0.5062447190284729),\n",
       " ('prolamin', 0.5011074542999268),\n",
       " ('jet', 0.49038609862327576),\n",
       " ('bb2', 0.48954135179519653),\n",
       " ('inadvert', 0.48302024602890015),\n",
       " ('neanmoin', 0.4828013777732849),\n",
       " ('juillet', 0.47704246640205383),\n",
       " ('aurr', 0.476423978805542),\n",
       " ('sens', 0.4757467806339264),\n",
       " ('samed', 0.472331702709198),\n",
       " ('compt', 0.47000765800476074),\n",
       " ('2007', 0.4696352183818817),\n",
       " ('echang', 0.46853888034820557),\n",
       " ('rendu', 0.46745431423187256),\n",
       " ('jesper', 0.46114546060562134),\n",
       " ('condom', 0.4605788290500641),\n",
       " ('detest', 0.45993632078170776),\n",
       " ('norlevo', 0.4587255120277405),\n",
       " ('censi', 0.45803311467170715),\n",
       " ('secour', 0.45797401666641235),\n",
       " ('crac', 0.451654851436615),\n",
       " ('reveil', 0.4512515664100647),\n",
       " ('jan', 0.44979771971702576),\n",
       " ('matin', 0.4476741850376129),\n",
       " ('cke', 0.443220317363739),\n",
       " ('janvi', 0.4414350390434265),\n",
       " ('enver', 0.441299170255661),\n",
       " ('jeud', 0.4411826729774475),\n",
       " ('ressembl', 0.44034504890441895),\n",
       " ('douz', 0.439230740070343),\n",
       " ('pilum', 0.43907204270362854),\n",
       " ('novembr', 0.43146926164627075),\n",
       " ('desogestrel', 0.430156409740448),\n",
       " ('jar', 0.4294362962245941),\n",
       " ('frais', 0.42791521549224854),\n",
       " ('carr', 0.4269501566886902),\n",
       " ('cerrazet', 0.4264402389526367),\n",
       " ('sterlet', 0.4251270294189453),\n",
       " ('juin', 0.42506563663482666),\n",
       " ('toilet', 0.4247796833515167),\n",
       " ('termin', 0.42449772357940674),\n",
       " ('jasmin', 0.4237150251865387),\n",
       " ('jasminiel', 0.421845018863678),\n",
       " ('derembours', 0.420035183429718),\n",
       " ('tentat', 0.41825953125953674)]"
      ]
     },
     "execution_count": 12,
     "metadata": {},
     "output_type": "execute_result"
    }
   ],
   "source": [
    "scratch_model.most_similar([\"dimanch\"], topn=50)"
   ]
  },
  {
   "cell_type": "code",
   "execution_count": null,
   "metadata": {},
   "outputs": [],
   "source": []
  }
 ],
 "metadata": {
  "kernelspec": {
   "display_name": "Python 3",
   "language": "python",
   "name": "python3"
  },
  "language_info": {
   "codemirror_mode": {
    "name": "ipython",
    "version": 3
   },
   "file_extension": ".py",
   "mimetype": "text/x-python",
   "name": "python",
   "nbconvert_exporter": "python",
   "pygments_lexer": "ipython3",
   "version": "3.5.2"
  }
 },
 "nbformat": 4,
 "nbformat_minor": 2
}
